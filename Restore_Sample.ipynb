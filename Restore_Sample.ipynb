{
 "cells": [
  {
   "cell_type": "markdown",
   "metadata": {
    "deletable": true,
    "editable": true
   },
   "source": [
    "### モジュールの読み込み"
   ]
  },
  {
   "cell_type": "code",
   "execution_count": 1,
   "metadata": {
    "code_folding": [
     0
    ],
    "collapsed": true,
    "deletable": true,
    "editable": true
   },
   "outputs": [],
   "source": [
    "#　形態素解析辞書と学習済みword2vecモデル\n",
    "import MeCab\n",
    "#辞書\n",
    "dic_path=\"dic/mecab-ipadic-neologd-0.0.5\"\n",
    "tagger = MeCab.Tagger(\"-Ochasen -d {0}\".format(dic_path))"
   ]
  },
  {
   "cell_type": "code",
   "execution_count": 2,
   "metadata": {
    "code_folding": [
     0
    ],
    "collapsed": false,
    "deletable": true,
    "editable": true,
    "scrolled": true
   },
   "outputs": [],
   "source": [
    "# word2vecのモデル\n",
    "from gensim.models import KeyedVectors\n",
    "model = KeyedVectors.load_word2vec_format('word2vec/entity_vector.model.txt')"
   ]
  },
  {
   "cell_type": "code",
   "execution_count": 3,
   "metadata": {
    "collapsed": false,
    "deletable": true,
    "editable": true,
    "scrolled": true
   },
   "outputs": [
    {
     "name": "stderr",
     "output_type": "stream",
     "text": [
      "Using TensorFlow backend.\n"
     ]
    }
   ],
   "source": [
    "import CNN_text\n",
    "CNN_classifier = CNN_text.CNN(tagger=tagger,model=model)"
   ]
  },
  {
   "cell_type": "markdown",
   "metadata": {
    "deletable": true,
    "editable": true
   },
   "source": [
    "### サンプルデータの読み込み"
   ]
  },
  {
   "cell_type": "code",
   "execution_count": 4,
   "metadata": {
    "collapsed": false,
    "deletable": true,
    "editable": true
   },
   "outputs": [],
   "source": [
    "import pickle\n",
    "with open('Sample_Data.pickle','rb') as f:\n",
    "    labels,texts = pickle.load(f)"
   ]
  },
  {
   "cell_type": "markdown",
   "metadata": {
    "deletable": true,
    "editable": true
   },
   "source": [
    "### リストアしたモデルを用いたラベル未知ユーザの推定"
   ]
  },
  {
   "cell_type": "code",
   "execution_count": 5,
   "metadata": {
    "collapsed": false,
    "deletable": true,
    "editable": true
   },
   "outputs": [
    {
     "name": "stdout",
     "output_type": "stream",
     "text": [
      "INFO:tensorflow:Restoring parameters from model/Best_model.ckpt\n"
     ]
    }
   ],
   "source": [
    "predictions, probabilities = CNN_classifier.predict(texts[:10])"
   ]
  },
  {
   "cell_type": "code",
   "execution_count": 6,
   "metadata": {
    "collapsed": false,
    "deletable": true,
    "editable": true,
    "scrolled": false
   },
   "outputs": [
    {
     "data": {
      "text/plain": [
       "array([1, 0, 0, 0, 2, 0, 0, 0, 1, 2])"
      ]
     },
     "execution_count": 6,
     "metadata": {},
     "output_type": "execute_result"
    }
   ],
   "source": [
    "predictions"
   ]
  },
  {
   "cell_type": "code",
   "execution_count": 7,
   "metadata": {
    "collapsed": false,
    "deletable": true,
    "editable": true,
    "scrolled": true
   },
   "outputs": [
    {
     "data": {
      "text/plain": [
       "array([[ 0.15631659,  0.35285315,  0.09905647,  0.13462482,  0.25714895],\n",
       "       [ 0.59124523,  0.04754849,  0.01627836,  0.29761395,  0.04731393],\n",
       "       [ 0.59000915,  0.16162939,  0.02047419,  0.02018431,  0.20770292],\n",
       "       [ 0.50225151,  0.07798162,  0.0447553 ,  0.09405971,  0.2809518 ],\n",
       "       [ 0.06919045,  0.04429295,  0.79141331,  0.02433711,  0.07076616],\n",
       "       [ 0.47973326,  0.05999798,  0.0712119 ,  0.08803847,  0.30101836],\n",
       "       [ 0.35697156,  0.16436616,  0.17549601,  0.2148575 ,  0.08830883],\n",
       "       [ 0.90643066,  0.01193968,  0.02722421,  0.00863535,  0.04577009],\n",
       "       [ 0.06658294,  0.29506752,  0.24676856,  0.24845621,  0.14312477],\n",
       "       [ 0.0624349 ,  0.02031473,  0.70763463,  0.1473622 ,  0.06225352]], dtype=float32)"
      ]
     },
     "execution_count": 7,
     "metadata": {},
     "output_type": "execute_result"
    }
   ],
   "source": [
    "probabilities"
   ]
  }
 ],
 "metadata": {
  "anaconda-cloud": {},
  "kernelspec": {
   "display_name": "Python [conda env:tensor_flow]",
   "language": "python",
   "name": "conda-env-tensor_flow-py"
  },
  "language_info": {
   "codemirror_mode": {
    "name": "ipython",
    "version": 3
   },
   "file_extension": ".py",
   "mimetype": "text/x-python",
   "name": "python",
   "nbconvert_exporter": "python",
   "pygments_lexer": "ipython3",
   "version": "3.5.4"
  }
 },
 "nbformat": 4,
 "nbformat_minor": 1
}
