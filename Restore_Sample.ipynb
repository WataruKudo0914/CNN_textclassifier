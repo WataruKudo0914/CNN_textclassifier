{
 "cells": [
  {
   "cell_type": "markdown",
   "metadata": {},
   "source": [
    "### 学習済みモデルのリストア"
   ]
  },
  {
   "cell_type": "code",
   "execution_count": 1,
   "metadata": {
    "code_folding": [
     0
    ],
    "collapsed": true
   },
   "outputs": [],
   "source": [
    "# cnnクラスインスタンスの引数辞書を読み込む\n",
    "import pickle\n",
    "with open('model/arg_dic.pickle','rb') as f:\n",
    "    arg_dic = pickle.load(f)"
   ]
  },
  {
   "cell_type": "code",
   "execution_count": 2,
   "metadata": {
    "collapsed": false,
    "deletable": true,
    "editable": true
   },
   "outputs": [
    {
     "name": "stderr",
     "output_type": "stream",
     "text": [
      "Using TensorFlow backend.\n"
     ]
    }
   ],
   "source": [
    "import CNN_text\n",
    "cnn = CNN_text.TextCNN(**arg_dic)"
   ]
  },
  {
   "cell_type": "code",
   "execution_count": 3,
   "metadata": {
    "collapsed": false
   },
   "outputs": [
    {
     "name": "stdout",
     "output_type": "stream",
     "text": [
      "INFO:tensorflow:Restoring parameters from model/Best_model.ckpt\n"
     ]
    }
   ],
   "source": [
    "import tensorflow as tf\n",
    "saver = tf.train.Saver()\n",
    "Best_sess = tf.InteractiveSession()\n",
    "saver.restore(Best_sess, \"model/Best_model.ckpt\")"
   ]
  },
  {
   "cell_type": "code",
   "execution_count": 4,
   "metadata": {
    "code_folding": [
     0
    ],
    "collapsed": false
   },
   "outputs": [],
   "source": [
    "#　形態素解析辞書と学習済みword2vecモデル\n",
    "import MeCab\n",
    "#辞書\n",
    "dic_path=\"dic/mecab-ipadic-neologd-0.0.5\"\n",
    "tagger = MeCab.Tagger(\"-Ochasen -d {0}\".format(dic_path))\n",
    "# word2vecのモデル\n",
    "from gensim.models import KeyedVectors\n",
    "model = KeyedVectors.load_word2vec_format('word2vec/entity_vector.model.txt')"
   ]
  },
  {
   "cell_type": "code",
   "execution_count": 5,
   "metadata": {
    "code_folding": [
     0
    ],
    "collapsed": true
   },
   "outputs": [],
   "source": [
    "# 復元処理\n",
    "CNN_textclassifier = CNN_text.CNN(tagger=tagger,model=model)\n",
    "CNN_textclassifier.cnn = cnn\n",
    "CNN_textclassifier.Best_sess = Best_sess\n",
    "CNN_textclassifier.maxlen = arg_dic['sequence_length']\n",
    "CNN_textclassifier.n_classes = arg_dic['num_classes']"
   ]
  },
  {
   "cell_type": "markdown",
   "metadata": {},
   "source": [
    "### サンプルデータの読み込み"
   ]
  },
  {
   "cell_type": "code",
   "execution_count": 6,
   "metadata": {
    "collapsed": true
   },
   "outputs": [],
   "source": [
    "with open('Sample_Data.pickle','rb') as f:\n",
    "    labels,texts = pickle.load(f)"
   ]
  },
  {
   "cell_type": "markdown",
   "metadata": {},
   "source": [
    "### リストアしたモデルを用いたラベル未知ユーザの推定"
   ]
  },
  {
   "cell_type": "code",
   "execution_count": 7,
   "metadata": {
    "collapsed": false
   },
   "outputs": [],
   "source": [
    "predictions, probabilities = CNN_textclassifier.predict(texts[0:10])"
   ]
  },
  {
   "cell_type": "code",
   "execution_count": 8,
   "metadata": {
    "collapsed": false,
    "scrolled": true
   },
   "outputs": [
    {
     "data": {
      "text/plain": [
       "array([1, 0, 0, 4, 2, 0, 0, 2, 2, 2])"
      ]
     },
     "execution_count": 8,
     "metadata": {},
     "output_type": "execute_result"
    }
   ],
   "source": [
    "predictions"
   ]
  },
  {
   "cell_type": "code",
   "execution_count": 9,
   "metadata": {
    "collapsed": false,
    "scrolled": true
   },
   "outputs": [
    {
     "data": {
      "text/plain": [
       "array([[ 0.08165468,  0.76764911,  0.00894002,  0.00267879,  0.13907735],\n",
       "       [ 0.53839588,  0.049858  ,  0.13544871,  0.08169431,  0.1946031 ],\n",
       "       [ 0.52598685,  0.03707225,  0.12260126,  0.04725664,  0.26708308],\n",
       "       [ 0.14713435,  0.11324584,  0.03406988,  0.13691011,  0.56863987],\n",
       "       [ 0.32461405,  0.07450321,  0.45518041,  0.0784535 ,  0.0672488 ],\n",
       "       [ 0.53532726,  0.05115978,  0.3437129 ,  0.03445525,  0.03534478],\n",
       "       [ 0.67792976,  0.04753617,  0.07187629,  0.04278367,  0.15987413],\n",
       "       [ 0.03323105,  0.00478519,  0.90653145,  0.03411695,  0.02133539],\n",
       "       [ 0.1251516 ,  0.13935634,  0.31070715,  0.27240565,  0.15237923],\n",
       "       [ 0.08048151,  0.01401507,  0.78450513,  0.00914092,  0.11185733]], dtype=float32)"
      ]
     },
     "execution_count": 9,
     "metadata": {},
     "output_type": "execute_result"
    }
   ],
   "source": [
    "probabilities"
   ]
  }
 ],
 "metadata": {
  "kernelspec": {
   "display_name": "Python [conda env:tensor_flow]",
   "language": "python",
   "name": "conda-env-tensor_flow-py"
  },
  "language_info": {
   "codemirror_mode": {
    "name": "ipython",
    "version": 3
   },
   "file_extension": ".py",
   "mimetype": "text/x-python",
   "name": "python",
   "nbconvert_exporter": "python",
   "pygments_lexer": "ipython3",
   "version": "3.5.4"
  }
 },
 "nbformat": 4,
 "nbformat_minor": 1
}
