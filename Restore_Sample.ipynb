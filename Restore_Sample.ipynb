{
 "cells": [
  {
   "cell_type": "markdown",
   "metadata": {
    "deletable": true,
    "editable": true
   },
   "source": [
    "### 学習済みモデルのリストア"
   ]
  },
  {
   "cell_type": "code",
   "execution_count": 1,
   "metadata": {
    "code_folding": [
     0
    ],
    "collapsed": true,
    "deletable": true,
    "editable": true
   },
   "outputs": [],
   "source": [
    "# cnnクラスインスタンスの引数辞書を読み込む\n",
    "import pickle\n",
    "with open('model/arg_dic.pickle','rb') as f:\n",
    "    arg_dic = pickle.load(f)"
   ]
  },
  {
   "cell_type": "code",
   "execution_count": 2,
   "metadata": {
    "collapsed": false,
    "deletable": true,
    "editable": true
   },
   "outputs": [
    {
     "name": "stderr",
     "output_type": "stream",
     "text": [
      "Using TensorFlow backend.\n"
     ]
    }
   ],
   "source": [
    "import CNN_text\n",
    "cnn = CNN_text.TextCNN(**arg_dic)"
   ]
  },
  {
   "cell_type": "code",
   "execution_count": 3,
   "metadata": {
    "collapsed": false,
    "deletable": true,
    "editable": true
   },
   "outputs": [
    {
     "name": "stdout",
     "output_type": "stream",
     "text": [
      "INFO:tensorflow:Restoring parameters from model/Best_model.ckpt\n"
     ]
    }
   ],
   "source": [
    "import tensorflow as tf\n",
    "saver = tf.train.Saver()\n",
    "Best_sess = tf.InteractiveSession()\n",
    "saver.restore(Best_sess, \"model/Best_model.ckpt\")"
   ]
  },
  {
   "cell_type": "code",
   "execution_count": 4,
   "metadata": {
    "code_folding": [
     0
    ],
    "collapsed": false,
    "deletable": true,
    "editable": true
   },
   "outputs": [],
   "source": [
    "#　形態素解析辞書と学習済みword2vecモデル\n",
    "import MeCab\n",
    "#辞書\n",
    "dic_path=\"dic/mecab-ipadic-neologd-0.0.5\"\n",
    "tagger = MeCab.Tagger(\"-Ochasen -d {0}\".format(dic_path))\n",
    "# word2vecのモデル\n",
    "from gensim.models import KeyedVectors\n",
    "model = KeyedVectors.load_word2vec_format('word2vec/entity_vector.model.txt')"
   ]
  },
  {
   "cell_type": "code",
   "execution_count": 5,
   "metadata": {
    "code_folding": [
     0
    ],
    "collapsed": true,
    "deletable": true,
    "editable": true
   },
   "outputs": [],
   "source": [
    "# 復元処理\n",
    "CNN_textclassifier = CNN_text.CNN(tagger=tagger,model=model)\n",
    "CNN_textclassifier.cnn = cnn\n",
    "CNN_textclassifier.Best_sess = Best_sess\n",
    "CNN_textclassifier.maxlen = arg_dic['sequence_length']\n",
    "CNN_textclassifier.n_classes = arg_dic['num_classes']"
   ]
  },
  {
   "cell_type": "markdown",
   "metadata": {
    "deletable": true,
    "editable": true
   },
   "source": [
    "### サンプルデータの読み込み"
   ]
  },
  {
   "cell_type": "code",
   "execution_count": 6,
   "metadata": {
    "collapsed": true,
    "deletable": true,
    "editable": true
   },
   "outputs": [],
   "source": [
    "with open('Sample_Data.pickle','rb') as f:\n",
    "    labels,texts = pickle.load(f)"
   ]
  },
  {
   "cell_type": "markdown",
   "metadata": {
    "deletable": true,
    "editable": true
   },
   "source": [
    "### リストアしたモデルを用いたラベル未知ユーザの推定"
   ]
  },
  {
   "cell_type": "code",
   "execution_count": 10,
   "metadata": {
    "collapsed": false,
    "deletable": true,
    "editable": true
   },
   "outputs": [],
   "source": [
    "predictions, probabilities = CNN_textclassifier.predict(texts[100:110])"
   ]
  },
  {
   "cell_type": "code",
   "execution_count": 11,
   "metadata": {
    "collapsed": false,
    "deletable": true,
    "editable": true,
    "scrolled": true
   },
   "outputs": [
    {
     "data": {
      "text/plain": [
       "array([0, 0, 0, 2, 4, 2, 0, 0, 0, 0])"
      ]
     },
     "execution_count": 11,
     "metadata": {},
     "output_type": "execute_result"
    }
   ],
   "source": [
    "predictions"
   ]
  },
  {
   "cell_type": "code",
   "execution_count": 12,
   "metadata": {
    "collapsed": false,
    "deletable": true,
    "editable": true,
    "scrolled": true
   },
   "outputs": [
    {
     "data": {
      "text/plain": [
       "array([[ 0.55379099,  0.07407583,  0.20385893,  0.00538564,  0.16288857],\n",
       "       [ 0.82385129,  0.0044641 ,  0.04534082,  0.00295164,  0.12339212],\n",
       "       [ 0.43143174,  0.38122341,  0.04766681,  0.03113887,  0.10853922],\n",
       "       [ 0.20423052,  0.175467  ,  0.39230996,  0.03539975,  0.19259278],\n",
       "       [ 0.28497869,  0.14004087,  0.09861413,  0.0419667 ,  0.43439963],\n",
       "       [ 0.13777643,  0.21432924,  0.55354577,  0.00097649,  0.09337209],\n",
       "       [ 0.75299788,  0.05579033,  0.00653841,  0.03520637,  0.14946699],\n",
       "       [ 0.67836213,  0.27415201,  0.00487719,  0.00390218,  0.03870652],\n",
       "       [ 0.58245564,  0.01833287,  0.10126607,  0.01871832,  0.27922711],\n",
       "       [ 0.54963642,  0.08192305,  0.05525488,  0.04250428,  0.27068141]], dtype=float32)"
      ]
     },
     "execution_count": 12,
     "metadata": {},
     "output_type": "execute_result"
    }
   ],
   "source": [
    "probabilities"
   ]
  }
 ],
 "metadata": {
  "kernelspec": {
   "display_name": "Python [conda env:tensor_flow]",
   "language": "python",
   "name": "conda-env-tensor_flow-py"
  },
  "language_info": {
   "codemirror_mode": {
    "name": "ipython",
    "version": 3
   },
   "file_extension": ".py",
   "mimetype": "text/x-python",
   "name": "python",
   "nbconvert_exporter": "python",
   "pygments_lexer": "ipython3",
   "version": "3.5.4"
  }
 },
 "nbformat": 4,
 "nbformat_minor": 1
}
